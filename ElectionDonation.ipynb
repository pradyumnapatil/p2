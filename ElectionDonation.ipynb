{
 "cells": [
  {
   "cell_type": "code",
   "execution_count": 1,
   "metadata": {},
   "outputs": [],
   "source": [
    "import pyspark.sql.functions as F\n",
    "from pyspark.sql import SparkSession\n",
    "from pyspark.sql import SQLContext\n",
    "from pyspark import SparkContext\n",
    "import math\n"
   ]
  },
  {
   "cell_type": "code",
   "execution_count": 3,
   "metadata": {},
   "outputs": [],
   "source": [
    "spark = SparkSession.builder     .appName(\"donation\")     .getOrCreate()      \n",
    "#sc = SparkContext()\n",
    "sqlContext = SQLContext(spark)"
   ]
  },
  {
   "cell_type": "code",
   "execution_count": 4,
   "metadata": {},
   "outputs": [],
   "source": [
    "def donation(input,header, output1,output2,output3,output4):\n",
    "\n",
    "    #Read data file\n",
    "    dff = sqlContext.read.format(\"com.databricks.spark.csv\").option(\"header\", \"true\").option(\"inferSchema\", \"true\").option(\"delimiter\", \"|\").load(input)\n",
    "    #Read header file\n",
    "    df_header = sqlContext.read.format(\"csv\").option(\"header\", \"true\").option(\"inferSchema\", \"true\").load(header)\n",
    "\n",
    "    #Merge header and data\n",
    "    df_with_header = df_header.union(dff)\n",
    "    #Extract required Campaign Ids\n",
    "    df_filtered=df_with_header.filter((df_with_header.CMTE_ID=='C00575795') | (df_with_header.CMTE_ID=='C00577130')|(df_with_header.CMTE_ID=='C00580100'))\n",
    "    \n",
    "    #Problem 1: How many donations did each campaign have?\n",
    "    #Calculate number of donations per campaign. Negative values are excluded to calculate the number of donations irrespective of refund.\n",
    "    no_of_donations= df_filtered.groupBy(\"CMTE_ID\").agg(F.count(F.when((F.col(\"TRANSACTION_AMT\")>0),True)).alias(\"NUMBER OF DONATIONS\"))\n",
    "    no_of_donations.show()\n",
    "    no_of_donations.coalesce(1).write.format('csv').save(output1)\n",
    "    \n",
    "    #Problem 2: What was the total amount donated to each campaign?\n",
    "    #Calculate total amount of donations per campaign. All the donations and refund are considered to get the final total donation amount.\n",
    "    total_donation = df_filtered.groupBy(\"CMTE_ID\").agg(F.sum(F.col(\"TRANSACTION_AMT\")).alias(\"TOTAL DONATION\"))\n",
    "    total_donation.show()\n",
    "    total_donation.coalesce(1).write.format('csv').save(output2)\n",
    "\n",
    "    #Problem 3: What percentage of the each campaign’s donations was done by small contributors?\n",
    "    #Groupby and sum over CMTE_ID and Name to get total donation amount of multiple small transactions per CMTE_ID.\n",
    "    small_donations= df_filtered.groupBy(\"CMTE_ID\",\"NAME\").agg(F.sum(F.col(\"TRANSACTION_AMT\")).alias(\"SMALL_DONATION\"))\n",
    "    #Filter out the positive transactions less than or equal to 200\n",
    "    small_donations= small_donations.filter((small_donations.SMALL_DONATION <=200) & (small_donations.SMALL_DONATION >0))\n",
    "    small_donations = small_donations.groupBy(\"CMTE_ID\").agg(F.sum(F.col(\"SMALL_DONATION\")).alias(\"SMALL DONATION\"))\n",
    "    #Get the total donations per campaign from previous answer.\n",
    "    percentage_of_small_donation = total_donation.join(small_donations,\"CMTE_ID\",how='left').withColumn(\"Percentage of small donation \", (F.col(\"SMALL DONATION\") / F.col(\"TOTAL DONATION\"))*100).fillna(0)\n",
    "    percentage_of_small_donation.show()\n",
    "    percentage_of_small_donation.coalesce(1).write.format('csv').save(output3)\n",
    "\n"
   ]
  },
  {
   "cell_type": "code",
   "execution_count": 5,
   "metadata": {},
   "outputs": [],
   "source": [
    " #Problem 4: Produce a histogram of the donations for each campaign?\n",
    "    generate_histogram_data(df_filtered,output4)\n",
    "def generate_histogram_data(df_filtered,output):\n",
    "    from pyspark.sql.types import DoubleType,LongType,StringType\n",
    "    from pyspark.sql.types import StructType,StructField\n",
    "    from pyspark.sql.functions import lit\n",
    "    from pyspark.ml.feature import Bucketizer\n",
    "\n",
    "    transaction_amt_data = df_filtered.select(\"CMTE_ID\",\"TRANSACTION_AMT\").withColumn(\"TRANSACTION_AMT\", df_filtered[\"TRANSACTION_AMT\"].cast(DoubleType()))\n",
    "    transaction_amt_data= transaction_amt_data.filter(transaction_amt_data.TRANSACTION_AMT >0)\n",
    "    #Use log scale bins to handle large range of transaction values\n",
    "    max_val = transaction_amt_data.agg({\"TRANSACTION_AMT\": \"max\"}).collect()[0][0]\n",
    "    max_exp = int(math.ceil(math.log10(max_val)))\n",
    "    splits = [10**i for i in range(0, max_exp+1)]\n",
    "\n",
    "    #Calculate the frequency of trasaction amount.\n",
    "    bucketizer = Bucketizer(splits=splits,inputCol=\"TRANSACTION_AMT\", outputCol=\"buckets\")\n",
    "    campaign_ids={'C00577130':'BERNIE 2016','C00580100':'DONALD J. TRUMP FOR PRESIDENT, INC.','C00575795':'HILLARY FOR AMERICA'}\n",
    "    field = [StructField(\"buckets\",DoubleType(),True),StructField(\"Number of donations\",LongType(),False),StructField(\"Campaign\",StringType(),False)]\n",
    "    schema = StructType(field)\n",
    "    df_merged = sqlContext.createDataFrame(spark.sparkContext.emptyRDD(), schema)\n",
    "\n",
    "    for campaign_id in campaign_ids.keys():\n",
    "        campaign_df = transaction_amt_data.where(transaction_amt_data['CMTE_ID'] == campaign_id)\n",
    "        df_buck = bucketizer.transform(campaign_df)\n",
    "        df_individual=df_buck.groupBy(\"buckets\").agg(F.count(F.col(\"TRANSACTION_AMT\")).alias(\"Number of donations\")).orderBy(\"buckets\").withColumn('Campaign',lit(campaign_ids.get(campaign_id)))\n",
    "        df_merged = df_individual.unionAll(df_merged)\n",
    "    df_merged.coalesce(1).write.format('csv').save(output)"
   ]
  },
  {
   "cell_type": "code",
   "execution_count": 6,
   "metadata": {},
   "outputs": [
    {
     "name": "stderr",
     "output_type": "stream",
     "text": [
      "usage: ipykernel_launcher.py [-h] [-i INPUT] [-header HEADER] [-o1 O1]\n",
      "                             [-o2 O2] [-o3 O3] [-o4 O4]\n",
      "ipykernel_launcher.py: error: unrecognized arguments: -f C:\\Users\\pradyumna\\AppData\\Roaming\\jupyter\\runtime\\kernel-80eac392-5985-4938-ae54-ecbd932d717d.json\n"
     ]
    },
    {
     "ename": "SystemExit",
     "evalue": "2",
     "output_type": "error",
     "traceback": [
      "An exception has occurred, use %tb to see the full traceback.\n",
      "\u001b[1;31mSystemExit\u001b[0m\u001b[1;31m:\u001b[0m 2\n"
     ]
    },
    {
     "name": "stderr",
     "output_type": "stream",
     "text": [
      "C:\\Users\\pradyumna\\Anaconda3\\lib\\site-packages\\IPython\\core\\interactiveshell.py:3275: UserWarning: To exit: use 'exit', 'quit', or Ctrl-D.\n",
      "  warn(\"To exit: use 'exit', 'quit', or Ctrl-D.\", stacklevel=1)\n"
     ]
    }
   ],
   "source": [
    "\n",
    "def files_from_args():\n",
    "    import argparse\n",
    "    parser = argparse.ArgumentParser()\n",
    "    parser.add_argument('-i', '--input', default='input')\n",
    "    parser.add_argument('-header', '--header', default='header')\n",
    "    parser.add_argument('-o1', '--o1',default='output1')\n",
    "    parser.add_argument('-o2', '--o2',default='output2')\n",
    "    parser.add_argument('-o3', '--o3',default='output3')\n",
    "    parser.add_argument('-o4', '--o4',default='output4')\n",
    "    args = parser.parse_args()\n",
    "    return (args.input,args.header, args.o1, args.o2,args.o3,args.o4)\n",
    "\n",
    "if __name__ == \"__main__\":\n",
    "    inputfile, headerfile, output1,output2,output3,output4 = files_from_args()\n",
    "    donation(inputfile,headerfile, output1,output2,output3,output4)\n",
    "\n"
   ]
  },
  {
   "cell_type": "code",
   "execution_count": 13,
   "metadata": {},
   "outputs": [
    {
     "data": {
      "text/html": [
       "<div>\n",
       "<style scoped>\n",
       "    .dataframe tbody tr th:only-of-type {\n",
       "        vertical-align: middle;\n",
       "    }\n",
       "\n",
       "    .dataframe tbody tr th {\n",
       "        vertical-align: top;\n",
       "    }\n",
       "\n",
       "    .dataframe thead th {\n",
       "        text-align: right;\n",
       "    }\n",
       "</style>\n",
       "<table border=\"1\" class=\"dataframe\">\n",
       "  <thead>\n",
       "    <tr style=\"text-align: right;\">\n",
       "      <th></th>\n",
       "      <th>CAMPAIGN ID</th>\n",
       "      <th>NUMBER OF DONATIONS</th>\n",
       "    </tr>\n",
       "  </thead>\n",
       "  <tbody>\n",
       "    <tr>\n",
       "      <th>0</th>\n",
       "      <td>C00577130</td>\n",
       "      <td>1532046</td>\n",
       "    </tr>\n",
       "    <tr>\n",
       "      <th>1</th>\n",
       "      <td>C00575795</td>\n",
       "      <td>2515042</td>\n",
       "    </tr>\n",
       "    <tr>\n",
       "      <th>2</th>\n",
       "      <td>C00580100</td>\n",
       "      <td>133115</td>\n",
       "    </tr>\n",
       "  </tbody>\n",
       "</table>\n",
       "</div>"
      ],
      "text/plain": [
       "  CAMPAIGN ID  NUMBER OF DONATIONS\n",
       "0   C00577130              1532046\n",
       "1   C00575795              2515042\n",
       "2   C00580100               133115"
      ]
     },
     "execution_count": 13,
     "metadata": {},
     "output_type": "execute_result"
    }
   ],
   "source": [
    "import pandas as pd\n",
    "\n",
    "op1=pd.read_csv('output1.csv',names=['CAMPAIGN ID','NUMBER OF DONATIONS'])\n",
    "op1"
   ]
  },
  {
   "cell_type": "code",
   "execution_count": 14,
   "metadata": {},
   "outputs": [
    {
     "data": {
      "text/html": [
       "<div>\n",
       "<style scoped>\n",
       "    .dataframe tbody tr th:only-of-type {\n",
       "        vertical-align: middle;\n",
       "    }\n",
       "\n",
       "    .dataframe tbody tr th {\n",
       "        vertical-align: top;\n",
       "    }\n",
       "\n",
       "    .dataframe thead th {\n",
       "        text-align: right;\n",
       "    }\n",
       "</style>\n",
       "<table border=\"1\" class=\"dataframe\">\n",
       "  <thead>\n",
       "    <tr style=\"text-align: right;\">\n",
       "      <th></th>\n",
       "      <th>CAMPAIGN ID</th>\n",
       "      <th>TOTAL DONATION</th>\n",
       "    </tr>\n",
       "  </thead>\n",
       "  <tbody>\n",
       "    <tr>\n",
       "      <th>0</th>\n",
       "      <td>C00577130</td>\n",
       "      <td>84399789.0</td>\n",
       "    </tr>\n",
       "    <tr>\n",
       "      <th>1</th>\n",
       "      <td>C00575795</td>\n",
       "      <td>293602014.0</td>\n",
       "    </tr>\n",
       "    <tr>\n",
       "      <th>2</th>\n",
       "      <td>C00580100</td>\n",
       "      <td>64624531.0</td>\n",
       "    </tr>\n",
       "  </tbody>\n",
       "</table>\n",
       "</div>"
      ],
      "text/plain": [
       "  CAMPAIGN ID  TOTAL DONATION\n",
       "0   C00577130      84399789.0\n",
       "1   C00575795     293602014.0\n",
       "2   C00580100      64624531.0"
      ]
     },
     "execution_count": 14,
     "metadata": {},
     "output_type": "execute_result"
    }
   ],
   "source": [
    "op2=pd.read_csv('output2.csv',names=['CAMPAIGN ID','TOTAL DONATION'])\n",
    "op2"
   ]
  },
  {
   "cell_type": "code",
   "execution_count": 15,
   "metadata": {},
   "outputs": [
    {
     "data": {
      "text/html": [
       "<div>\n",
       "<style scoped>\n",
       "    .dataframe tbody tr th:only-of-type {\n",
       "        vertical-align: middle;\n",
       "    }\n",
       "\n",
       "    .dataframe tbody tr th {\n",
       "        vertical-align: top;\n",
       "    }\n",
       "\n",
       "    .dataframe thead th {\n",
       "        text-align: right;\n",
       "    }\n",
       "</style>\n",
       "<table border=\"1\" class=\"dataframe\">\n",
       "  <thead>\n",
       "    <tr style=\"text-align: right;\">\n",
       "      <th></th>\n",
       "      <th>CAMPAIGN ID</th>\n",
       "      <th>TOTAL DONATION</th>\n",
       "      <th>SMALL DONATION</th>\n",
       "      <th>PERCENTAGE OF SMALL DONATION</th>\n",
       "    </tr>\n",
       "  </thead>\n",
       "  <tbody>\n",
       "    <tr>\n",
       "      <th>0</th>\n",
       "      <td>C00577130</td>\n",
       "      <td>84399789.0</td>\n",
       "      <td>10969821.0</td>\n",
       "      <td>12.997451</td>\n",
       "    </tr>\n",
       "    <tr>\n",
       "      <th>1</th>\n",
       "      <td>C00575795</td>\n",
       "      <td>293602014.0</td>\n",
       "      <td>14294002.0</td>\n",
       "      <td>4.868496</td>\n",
       "    </tr>\n",
       "    <tr>\n",
       "      <th>2</th>\n",
       "      <td>C00580100</td>\n",
       "      <td>64624531.0</td>\n",
       "      <td>2161316.0</td>\n",
       "      <td>3.344420</td>\n",
       "    </tr>\n",
       "  </tbody>\n",
       "</table>\n",
       "</div>"
      ],
      "text/plain": [
       "  CAMPAIGN ID  TOTAL DONATION  SMALL DONATION  PERCENTAGE OF SMALL DONATION\n",
       "0   C00577130      84399789.0      10969821.0                     12.997451\n",
       "1   C00575795     293602014.0      14294002.0                      4.868496\n",
       "2   C00580100      64624531.0       2161316.0                      3.344420"
      ]
     },
     "execution_count": 15,
     "metadata": {},
     "output_type": "execute_result"
    }
   ],
   "source": [
    "op3=pd.read_csv('output3.csv',names=['CAMPAIGN ID','TOTAL DONATION','SMALL DONATION', 'PERCENTAGE OF SMALL DONATION'])\n",
    "op3"
   ]
  },
  {
   "cell_type": "code",
   "execution_count": 12,
   "metadata": {},
   "outputs": [
    {
     "name": "stdout",
     "output_type": "stream",
     "text": [
      "       BUCKET  NUMBER OF DONATIONS                             CAMPAIGN\n",
      "0         1.0               163536                          BERNIE 2016\n",
      "1        10.0              1124461                          BERNIE 2016\n",
      "2       100.0               235490                          BERNIE 2016\n",
      "3      1000.0                 8551                          BERNIE 2016\n",
      "4     10000.0                    8                          BERNIE 2016\n",
      "5         1.0                  180  DONALD J. TRUMP FOR PRESIDENT, INC.\n",
      "6        10.0                18977  DONALD J. TRUMP FOR PRESIDENT, INC.\n",
      "7       100.0                99731  DONALD J. TRUMP FOR PRESIDENT, INC.\n",
      "8      1000.0                14193  DONALD J. TRUMP FOR PRESIDENT, INC.\n",
      "9     10000.0                   29  DONALD J. TRUMP FOR PRESIDENT, INC.\n",
      "10  1000000.0                    5  DONALD J. TRUMP FOR PRESIDENT, INC.\n",
      "11        1.0               415579                  HILLARY FOR AMERICA\n",
      "12       10.0              1536960                  HILLARY FOR AMERICA\n",
      "13      100.0               485597                  HILLARY FOR AMERICA\n",
      "14     1000.0                76854                  HILLARY FOR AMERICA\n",
      "15    10000.0                   52                  HILLARY FOR AMERICA\n"
     ]
    },
    {
     "data": {
      "image/png": "[encoded data removed]",
      "text/plain": [
       "<Figure size 432x288 with 1 Axes>"
      ]
     },
     "metadata": {},
     "output_type": "display_data"
    }
   ],
   "source": [
    "import seaborn as sns\n",
    "import matplotlib.pyplot as plt\n",
    "import numpy as np\n",
    "\n",
    "histogram_data=pd.read_csv('histogram_output.csv',names=['BUCKET','NUMBER OF DONATIONS','CAMPAIGN'])\n",
    "#Replace the bucket number with donation amount.\n",
    "histogram_data['BUCKET'] = 10**(histogram_data['BUCKET'])\n",
    "print(histogram_data)\n",
    "\n",
    "sns.set(style=\"whitegrid\")\n",
    "g = sns.barplot(x=\"BUCKET\", y=\"NUMBER OF DONATIONS\", hue=\"CAMPAIGN\", data=histogram_data)\n",
    "g.set_yscale('log')\n",
    "g.set(xlabel='Donation Amount')\n",
    "plt.show()"
   ]
  },
  {
   "cell_type": "code",
   "execution_count": null,
   "metadata": {},
   "outputs": [],
   "source": []
  }
 ],
 "metadata": {
  "kernelspec": {
   "display_name": "Python 3",
   "language": "python",
   "name": "python3"
  },
  "language_info": {
   "codemirror_mode": {
    "name": "ipython",
    "version": 3
   },
   "file_extension": ".py",
   "mimetype": "text/x-python",
   "name": "python",
   "nbconvert_exporter": "python",
   "pygments_lexer": "ipython3",
   "version": "3.7.1"
  }
 },
 "nbformat": 4,
 "nbformat_minor": 2
}
